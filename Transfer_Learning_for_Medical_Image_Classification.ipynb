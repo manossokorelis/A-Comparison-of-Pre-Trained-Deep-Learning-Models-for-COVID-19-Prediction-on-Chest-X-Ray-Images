{
  "cells": [
    {
      "cell_type": "markdown",
      "metadata": {
        "id": "TH-2fvYzJc9M"
      },
      "source": [
        "**Importing libraries and downloading data and connecting with Google Drive**"
      ]
    },
    {
      "cell_type": "code",
      "execution_count": 1,
      "metadata": {
        "id": "hlUmgi2hJVz_"
      },
      "outputs": [],
      "source": [
        "import os\n",
        "import numpy as np\n",
        "import pandas as pd\n",
        "import tensorflow as tf\n",
        "import matplotlib.pyplot as plt\n",
        "import matplotlib.image as mpimg\n",
        "import random\n",
        "import gc\n",
        "import cv2\n",
        "import time\n",
        "from sklearn.model_selection import train_test_split\n",
        "from sklearn.model_selection import StratifiedKFold\n",
        "from tensorflow.keras.models import Sequential\n",
        "from tensorflow.keras.models import Model\n",
        "from tensorflow.keras.layers import Dense, Activation, Conv2D, MaxPool2D, MaxPooling2D, Flatten, Dropout, BatchNormalization\n",
        "from tensorflow.keras.callbacks import TensorBoard, EarlyStopping, LearningRateScheduler, ModelCheckpoint, CSVLogger, ReduceLROnPlateau\n",
        "from tensorflow.keras.callbacks import Callback\n",
        "from sklearn.metrics import accuracy_score, precision_score, recall_score, f1_score\n",
        "import tensorflow as tf\n",
        "from google.colab import files"
      ]
    },
    {
      "cell_type": "code",
      "execution_count": null,
      "metadata": {
        "id": "O1pLfi4vJjb9"
      },
      "outputs": [],
      "source": [
        "files.upload()"
      ]
    },
    {
      "cell_type": "code",
      "execution_count": null,
      "metadata": {
        "id": "HyG3_9KmJkkC"
      },
      "outputs": [],
      "source": [
        "os.environ['KAGGLE_CONFIG_DIR'] = '/content'"
      ]
    },
    {
      "cell_type": "code",
      "execution_count": null,
      "metadata": {
        "id": "eTYISUovJlit"
      },
      "outputs": [],
      "source": [
        "!kaggle datasets download -d sid321axn/covid-cxr-image-dataset-research"
      ]
    },
    {
      "cell_type": "code",
      "execution_count": null,
      "metadata": {
        "id": "0bWRnrXaJmnE"
      },
      "outputs": [],
      "source": [
        "!unzip \\*.zip"
      ]
    },
    {
      "cell_type": "markdown",
      "metadata": {
        "id": "_tQ0c9DeJqCV"
      },
      "source": [
        "**Some visualization**"
      ]
    },
    {
      "cell_type": "code",
      "execution_count": null,
      "metadata": {
        "id": "1IMD5M8aJqz2"
      },
      "outputs": [],
      "source": [
        "def view_image(target_dir, target_class):\n",
        "  target_folder = target_dir + target_class\n",
        "  random_image = random.sample(os.listdir(target_folder), 1)\n",
        "  print(random_image)\n",
        "  img = mpimg.imread(target_folder + '/' + random_image[0])\n",
        "  plt.imshow(img, cmap='gray')\n",
        "  plt.title(target_class)\n",
        "  plt.axis('off')\n",
        "  print(f'image shape {img.shape}')\n",
        "  return img"
      ]
    },
    {
      "cell_type": "code",
      "execution_count": null,
      "metadata": {
        "id": "11of1QdKJtS7"
      },
      "outputs": [],
      "source": [
        "img = view_image('/content/COVID_IEEE/','virus')"
      ]
    },
    {
      "cell_type": "code",
      "execution_count": null,
      "metadata": {
        "id": "1ow5g9ZSJvgV"
      },
      "outputs": [],
      "source": [
        "img = view_image('/content/COVID_IEEE/','normal')"
      ]
    },
    {
      "cell_type": "code",
      "execution_count": null,
      "metadata": {
        "id": "fgaj2-GRJwtm"
      },
      "outputs": [],
      "source": [
        "img = view_image('/content/COVID_IEEE/','covid')"
      ]
    },
    {
      "cell_type": "markdown",
      "metadata": {
        "id": "LlRMWitlJydC"
      },
      "source": [
        "**Creating dataset**"
      ]
    },
    {
      "cell_type": "code",
      "execution_count": null,
      "metadata": {
        "id": "ImEbFYn3JzHq"
      },
      "outputs": [],
      "source": [
        "def create_dataset(path0, path1, path2):\n",
        "  images = []\n",
        "  labels = []\n",
        "  load_images(path0, 0, images, labels)\n",
        "  load_images(path1, 1, images, labels)\n",
        "  load_images(path2, 2, images, labels)\n",
        "  images = np.array(images)\n",
        "  labels = np.array(labels)\n",
        "  return images, labels\n",
        "\n",
        "def load_images(path, label, images, labels):\n",
        "  for filename in os.listdir(path):\n",
        "    image = cv2.imread(os.path.join(path, filename))\n",
        "    if image is not None:\n",
        "      image = cv2.resize(image, (224, 224))\n",
        "      images.append(image)\n",
        "      labels.append(label)\n",
        "\n",
        "path0 = '/content/COVID_IEEE/covid/'\n",
        "path1 = '/content/COVID_IEEE/normal/'\n",
        "path2 = '/content/COVID_IEEE/virus/'\n",
        "\n",
        "images, labels = create_dataset(path0, path1, path2)"
      ]
    },
    {
      "cell_type": "markdown",
      "metadata": {
        "id": "umVr3f2HJ1TB"
      },
      "source": [
        "**Defining models architecture**"
      ]
    },
    {
      "cell_type": "code",
      "execution_count": null,
      "metadata": {
        "id": "h3QhSYn1NUVy"
      },
      "outputs": [],
      "source": [
        "class ResNet50Model(Model):\n",
        "  def __init__(self, **kwargs):\n",
        "    super().__init__(**kwargs)\n",
        "    self.base_model = tf.keras.applications.ResNet50(input_shape=[224,224,3], weights='imagenet', include_top=False)\n",
        "    for layer in self.base_model.layers:\n",
        "      layer.trainable = False\n",
        "    self.flatten = Flatten()\n",
        "    self.dense1 = Dense(units=1024, activation='relu')\n",
        "    self.dense2 = Dense(units=512, activation='relu')\n",
        "    self.dense3 = Dense(units=256, activation='relu')\n",
        "    self.prediction_layer = Dense(units=3, activation='softmax')\n",
        "\n",
        "  def call(self, inputs):\n",
        "    x = self.base_model(inputs)\n",
        "    x = self.flatten(x)\n",
        "    x = self.dense1(x)\n",
        "    x = self.dense2(x)\n",
        "    x = self.dense3(x)\n",
        "    output = self.prediction_layer(x)\n",
        "    return output"
      ]
    },
    {
      "cell_type": "code",
      "execution_count": null,
      "metadata": {
        "id": "_r1SnnpXJ9tk"
      },
      "outputs": [],
      "source": [
        "class DenseNet201Model(Model):\n",
        "  def __init__(self, **kwargs):\n",
        "    super().__init__(**kwargs)\n",
        "    self.base_model = tf.keras.applications.DenseNet201(input_shape=[224,224,3], weights='imagenet', include_top=False)\n",
        "    for layer in self.base_model.layers:\n",
        "      layer.trainable = False\n",
        "    self.flatten = Flatten()\n",
        "    self.dense1 = Dense(units=1024, activation='relu')\n",
        "    self.dense2 = Dense(units=512, activation='relu')\n",
        "    self.dense3 = Dense(units=256, activation='relu')\n",
        "    self.prediction_layer = Dense(units=3, activation='softmax')\n",
        "\n",
        "  def call(self, inputs):\n",
        "    x = self.base_model(inputs)\n",
        "    x = self.flatten(x)\n",
        "    x = self.dense1(x)\n",
        "    x = self.dense2(x)\n",
        "    x = self.dense3(x)\n",
        "    output = self.prediction_layer(x)\n",
        "    return output"
      ]
    },
    {
      "cell_type": "code",
      "execution_count": null,
      "metadata": {
        "id": "OiG87IphJ_he"
      },
      "outputs": [],
      "source": [
        "class InceptionResNetV2Model(Model):\n",
        "  def __init__(self, **kwargs):\n",
        "    super().__init__(**kwargs)\n",
        "    self.base_model = tf.keras.applications.InceptionResNetV2(input_shape=[224,224,3], weights='imagenet', include_top=False)\n",
        "    for layer in self.base_model.layers:\n",
        "      layer.trainable = False\n",
        "    self.flatten = Flatten()\n",
        "    self.dense1 = Dense(units=1024, activation='relu')\n",
        "    self.dense2 = Dense(units=512, activation='relu')\n",
        "    self.dense3 = Dense(units=256, activation='relu')\n",
        "    self.prediction_layer = Dense(units=3, activation='softmax')\n",
        "\n",
        "  def call(self, inputs):\n",
        "    x = self.base_model(inputs)\n",
        "    x = self.flatten(x)\n",
        "    x = self.dense1(x)\n",
        "    x = self.dense2(x)\n",
        "    x = self.dense3(x)\n",
        "    output = self.prediction_layer(x)\n",
        "    return output"
      ]
    },
    {
      "cell_type": "code",
      "execution_count": null,
      "metadata": {
        "id": "0w3YWyqpN5t9"
      },
      "outputs": [],
      "source": [
        "class MobileNetV2Model(Model):\n",
        "  def __init__(self, **kwargs):\n",
        "    super().__init__(**kwargs)\n",
        "    self.base_model = tf.keras.applications.MobileNetV2(input_shape=[224,224,3], weights='imagenet', include_top=False)\n",
        "    for layer in self.base_model.layers:\n",
        "      layer.trainable = False\n",
        "    self.flatten = Flatten()\n",
        "    self.dense1 = Dense(units=1024, activation='relu')\n",
        "    self.dense2 = Dense(units=512, activation='relu')\n",
        "    self.dense3 = Dense(units=256, activation='relu')\n",
        "    self.prediction_layer = Dense(units=3, activation='softmax')\n",
        "\n",
        "  def call(self, inputs):\n",
        "    x = self.base_model(inputs)\n",
        "    x = self.flatten(x)\n",
        "    x = self.dense1(x)\n",
        "    x = self.dense2(x)\n",
        "    x = self.dense3(x)\n",
        "    output = self.prediction_layer(x)\n",
        "    return output"
      ]
    },
    {
      "cell_type": "markdown",
      "metadata": {
        "id": "xtaPF-BHKFpk"
      },
      "source": [
        "**Defining some custom function and callbacks for taking metrics**"
      ]
    },
    {
      "cell_type": "code",
      "execution_count": null,
      "metadata": {
        "id": "73AEAvy3eZhM"
      },
      "outputs": [],
      "source": [
        "class CustomCallback(Callback):\n",
        "  def __init__(self, model, fold_idx):\n",
        "    super(CustomCallback, self).__init__()\n",
        "    self.custom_model = model\n",
        "    self.fold_idx = fold_idx\n",
        "    self.start_time = None\n",
        "    self.end_time = None\n",
        "\n",
        "  def on_train_begin(self, logs=None):\n",
        "    self.start_time = time.time()\n",
        "\n",
        "  def on_train_end(self, logs=None):\n",
        "    global time_metrics\n",
        "    self.end_time = time.time()\n",
        "    time_metrics = pd.concat([time_metrics, pd.DataFrame({\n",
        "        'Model': [type(self.custom_model).__name__],\n",
        "        'Time': [self.end_time - self.start_time]\n",
        "    })], ignore_index=True)\n",
        "\n",
        "  def on_epoch_end(self, epoch, logs=None):\n",
        "      global train_metrics\n",
        "      train_loss = logs.get('loss')\n",
        "      train_accuracy = logs.get('accuracy')\n",
        "      val_loss = logs.get('val_loss')\n",
        "      val_accuracy = logs.get('val_accuracy')\n",
        "      train_metrics = pd.concat([train_metrics, pd.DataFrame({\n",
        "          'Model': [type(self.custom_model).__name__],\n",
        "          'Fold': [self.fold_idx + 1],\n",
        "          'Epoch': [epoch + 1],\n",
        "          'Loss': [train_loss],\n",
        "          'Accuracy': [train_accuracy],\n",
        "          'Val_Loss': [val_loss],\n",
        "          'Val_Accuracy': [val_accuracy]\n",
        "      })], ignore_index=True)"
      ]
    },
    {
      "cell_type": "code",
      "execution_count": null,
      "metadata": {
        "id": "01Bfdrtrea0z"
      },
      "outputs": [],
      "source": [
        "def calculate_metrics(test_lbls, test_lbls_pred, model, fold_idx):\n",
        "  global test_metrics\n",
        "  accuracy = accuracy_score(test_lbls, test_lbls_pred)\n",
        "  precision = precision_score(test_lbls, test_lbls_pred, average='weighted')\n",
        "  recall = recall_score(test_lbls, test_lbls_pred, average='weighted')\n",
        "  f1 = f1_score(test_lbls, test_lbls_pred, average='weighted')\n",
        "  test_metrics = pd.concat([test_metrics, pd.DataFrame({\n",
        "    'Model': [type(model).__name__],\n",
        "    'Fold': [fold_idx+1],\n",
        "    'Accuracy': [accuracy],\n",
        "    'Precision': [precision],\n",
        "    'Recall': [recall],\n",
        "    'F1-Score': [f1]\n",
        "  })], ignore_index=True)"
      ]
    },
    {
      "cell_type": "code",
      "source": [
        "def createPlot(model, fold):\n",
        "  data = train_metrics[train_metrics['Model'] == model]\n",
        "  data = data[data['Fold'] == fold]\n",
        "  fig, axs = plt.subplots(1, 2, figsize=(18, 8))\n",
        "  axs[0].plot(data['Epoch'], data['Loss'], label='Training Loss', marker='o')\n",
        "  axs[0].plot(data['Epoch'], data['Val_Loss'], label='Validation Loss', marker='o')\n",
        "  axs[0].set_title('Training and Validation Loss per Epoch')\n",
        "  axs[0].set_xlabel('Epoch')\n",
        "  axs[0].set_ylabel('Loss')\n",
        "  axs[0].legend()\n",
        "  axs[0].grid(True)\n",
        "  axs[1].plot(data['Epoch'], data['Accuracy'], label='Training Accuracy', marker='o')\n",
        "  axs[1].plot(data['Epoch'], data['Val_Accuracy'], label='Validation Accuracy', marker='o')\n",
        "  axs[1].set_title('Training and Validation Accuracy per Epoch')\n",
        "  axs[1].set_xlabel('Epoch')\n",
        "  axs[1].set_ylabel('Accuracy')\n",
        "  axs[1].legend()\n",
        "  axs[1].grid(True)\n",
        "  fig.suptitle(f'Training and Validation Metrics per Epoch for {model} (Fold {fold})', fontsize=16)\n",
        "  plt.show()"
      ],
      "metadata": {
        "id": "sOnbsa1905pT"
      },
      "execution_count": null,
      "outputs": []
    },
    {
      "cell_type": "code",
      "source": [
        "def createAvgPlot():\n",
        "  models = ['DenseNet201Model', 'InceptionResNetV2Model', 'MobileNetV2Model', 'ResNet50Model']\n",
        "  data = avg_train_metrics[avg_train_metrics['Model'].isin(models)]\n",
        "  plt.figure(figsize=(18, 6))\n",
        "  colors = ['b', 'g', 'r', 'c']\n",
        "  for i, model in enumerate(models):\n",
        "    model_data = data[data['Model'] == model]\n",
        "    plt.plot(model_data['Epoch'], model_data['Val_Accuracy'], marker='o', linestyle='-', color=colors[i], label=f'{model}')\n",
        "  plt.xlabel('Epoch')\n",
        "  plt.ylabel('Accuracy')\n",
        "  plt.legend()\n",
        "  plt.grid(True)\n",
        "  plt.show()\n",
        "  plt.figure(figsize=(18, 8))\n",
        "  for i, model in enumerate(models):\n",
        "    model_data = data[data['Model'] == model]\n",
        "    plt.plot(model_data['Epoch'], model_data['Val_Loss'], marker='o', linestyle='-', color=colors[i], label=f'{model}')\n",
        "  plt.xlabel('Epoch')\n",
        "  plt.ylabel('Loss')\n",
        "  plt.legend()\n",
        "  plt.grid(True)\n",
        "  plt.show()"
      ],
      "metadata": {
        "id": "JADiShDSABOU"
      },
      "execution_count": null,
      "outputs": []
    },
    {
      "cell_type": "markdown",
      "metadata": {
        "id": "fMmQDyapJ_9o"
      },
      "source": [
        "**Data preprocessing**"
      ]
    },
    {
      "cell_type": "code",
      "execution_count": null,
      "metadata": {
        "id": "4T_8MTF5KDgQ"
      },
      "outputs": [],
      "source": [
        "images = images / 255.0\n",
        "main_imgs, test_imgs, main_lbls, test_lbls = train_test_split(images, labels, test_size=0.2, random_state=42)"
      ]
    },
    {
      "cell_type": "markdown",
      "metadata": {
        "id": "X4sueZVG7zwK"
      },
      "source": [
        "**Creating dataframes for storage**"
      ]
    },
    {
      "cell_type": "code",
      "execution_count": null,
      "metadata": {
        "id": "mTOYVEK2erC-"
      },
      "outputs": [],
      "source": [
        "train_metrics_columns = ['Model', 'Fold', 'Epoch' , 'Loss', 'Accuracy', 'Val_Loss', 'Val_Accuracy']\n",
        "train_metrics = pd.DataFrame(columns=train_metrics_columns)\n",
        "time_metrics_column = ['Model', 'Time']\n",
        "time_metrics = pd.DataFrame(columns=time_metrics_column)\n",
        "test_metrics_columns = ['Model', 'Fold', 'Accuracy', 'Precision', 'Recall', 'F1-Score']\n",
        "test_metrics = pd.DataFrame(columns=test_metrics_columns)"
      ]
    },
    {
      "cell_type": "markdown",
      "source": [
        "**Define some parameters**\n"
      ],
      "metadata": {
        "id": "6RDVQooxfWy8"
      }
    },
    {
      "cell_type": "code",
      "source": [
        "epochs = 10\n",
        "n_splits = 5"
      ],
      "metadata": {
        "id": "-kO5QwgBBkUW"
      },
      "execution_count": null,
      "outputs": []
    },
    {
      "cell_type": "markdown",
      "metadata": {
        "id": "HA3ySUFO8It7"
      },
      "source": [
        "**Testing**"
      ]
    },
    {
      "cell_type": "code",
      "source": [
        "stratified_kfold = StratifiedKFold(n_splits=n_splits, shuffle=True, random_state=42)\n",
        "for fold_idx, (train_index, val_index) in enumerate(stratified_kfold.split(main_imgs, main_lbls)):\n",
        "  print(f'- Fold {fold_idx+1}:')\n",
        "  train_imgs_fold = main_imgs[train_index]\n",
        "  train_lbls_fold = main_lbls[train_index]\n",
        "  val_imgs_fold = main_imgs[val_index]\n",
        "  val_lbls_fold = main_lbls[val_index]\n",
        "  train_lbls_fold = tf.keras.utils.to_categorical(train_lbls_fold, num_classes = 3)\n",
        "  val_lbls_fold = tf.keras.utils.to_categorical(val_lbls_fold, num_classes = 3)\n",
        "  for ModelClass in [ResNet50Model, DenseNet201Model, InceptionResNetV2Model, MobileNetV2Model]:\n",
        "    print(f'Model {ModelClass.__name__}:')\n",
        "    model = ModelClass()\n",
        "    model.compile(optimizer='adam', loss='categorical_crossentropy', metrics=['accuracy'])\n",
        "    model.fit(\n",
        "      train_imgs_fold, train_lbls_fold,\n",
        "      epochs=epochs,\n",
        "      validation_data=(val_imgs_fold, val_lbls_fold),\n",
        "      callbacks=[CustomCallback(model, fold_idx),\n",
        "                EarlyStopping(\n",
        "                  patience=15,\n",
        "                  min_delta=0.01,\n",
        "                  mode='min',\n",
        "                  monitor='val_loss',\n",
        "                  restore_best_weights=True,\n",
        "                  verbose=0)\n",
        "                ])\n",
        "    test_lbls_pred = np.argmax(model.predict(test_imgs), axis = 1)\n",
        "    calculate_metrics(test_lbls, test_lbls_pred, model, fold_idx)\n",
        "    del model\n",
        "    gc.collect()\n",
        "  print(20*'-')\n",
        "train_metrics = train_metrics.sort_values(by=['Model', 'Fold', 'Epoch'])\n",
        "time_metrics = time_metrics.sort_values(by=['Model'])\n",
        "test_metrics = test_metrics.sort_values(by=['Model', 'Fold'])\n",
        "train_metrics.to_csv('train_metrics.csv', index=False)\n",
        "time_metrics.to_csv('time_metrics.csv', index=False)\n",
        "test_metrics.to_csv('testd_metrics.csv', index=False)\n",
        "train_metrics.to_excel('train_metrics.xlsx', index=False)\n",
        "time_metrics.to_excel('time_metrics.xlsx', index=False)\n",
        "test_metrics.to_excel('test_metrics.xlsx', index=False)\n",
        "avg_train_metrics = train_metrics.groupby(['Model', 'Epoch']).mean().reset_index().drop(columns=['Fold'])\n",
        "avg_time_metrics = time_metrics.groupby('Model')['Time'].mean().reset_index()\n",
        "avg_test_metrics = test_metrics.groupby('Model')[['Accuracy', 'Precision', 'Recall', 'F1-Score']].mean().reset_index()\n",
        "avg_train_metrics.to_csv('avg_train_metrics.csv', index=False)\n",
        "avg_time_metrics.to_csv('avg_time_metrics.csv', index=False)\n",
        "avg_test_metrics.to_csv('avg_test_metrics.csv', index=False)\n",
        "avg_train_metrics.to_excel('avg_train_metrics.xlsx', index=False)\n",
        "avg_time_metrics.to_excel('avg_time_metrics.xlsx', index=False)\n",
        "avg_test_metrics.to_excel('avg_test_metrics.xlsx', index=False)"
      ],
      "metadata": {
        "id": "RT58XQDFloPv",
        "colab": {
          "base_uri": "https://localhost:8080/"
        },
        "outputId": "736a1ed4-aef2-4d88-c160-2388ec077c14"
      },
      "execution_count": null,
      "outputs": [
        {
          "output_type": "stream",
          "name": "stdout",
          "text": [
            "- Fold 1:\n",
            "Model ResNet50Model:\n",
            "Epoch 1/10\n",
            "\u001b[1m37/37\u001b[0m \u001b[32m━━━━━━━━━━━━━━━━━━━━\u001b[0m\u001b[37m\u001b[0m \u001b[1m0s\u001b[0m 231ms/step - accuracy: 0.3547 - loss: 8.3368"
          ]
        },
        {
          "output_type": "stream",
          "name": "stderr",
          "text": [
            "<ipython-input-15-c1f9d6ca5cf4>:26: FutureWarning: The behavior of DataFrame concatenation with empty or all-NA entries is deprecated. In a future version, this will no longer exclude empty or all-NA columns when determining the result dtypes. To retain the old behavior, exclude the relevant entries before the concat operation.\n",
            "  train_metrics = pd.concat([train_metrics, pd.DataFrame({\n"
          ]
        },
        {
          "output_type": "stream",
          "name": "stdout",
          "text": [
            "\b\b\b\b\b\b\b\b\b\b\b\b\b\b\b\b\b\b\b\b\b\b\b\b\b\b\b\b\b\b\b\b\b\b\b\b\b\b\b\b\b\b\b\b\b\b\b\b\b\b\b\b\b\b\b\b\b\b\b\b\b\b\b\b\b\b\b\b\b\b\b\b\b\b\r\u001b[1m37/37\u001b[0m \u001b[32m━━━━━━━━━━━━━━━━━━━━\u001b[0m\u001b[37m\u001b[0m \u001b[1m37s\u001b[0m 566ms/step - accuracy: 0.3554 - loss: 8.2427 - val_accuracy: 0.5959 - val_loss: 0.8383\n",
            "Epoch 2/10\n",
            "\u001b[1m37/37\u001b[0m \u001b[32m━━━━━━━━━━━━━━━━━━━━\u001b[0m\u001b[37m\u001b[0m \u001b[1m18s\u001b[0m 130ms/step - accuracy: 0.5572 - loss: 0.9012 - val_accuracy: 0.5171 - val_loss: 0.8378\n",
            "Epoch 3/10\n",
            "\u001b[1m37/37\u001b[0m \u001b[32m━━━━━━━━━━━━━━━━━━━━\u001b[0m\u001b[37m\u001b[0m \u001b[1m6s\u001b[0m 163ms/step - accuracy: 0.6469 - loss: 0.7208 - val_accuracy: 0.7021 - val_loss: 0.6237\n",
            "Epoch 4/10\n",
            "\u001b[1m37/37\u001b[0m \u001b[32m━━━━━━━━━━━━━━━━━━━━\u001b[0m\u001b[37m\u001b[0m \u001b[1m10s\u001b[0m 166ms/step - accuracy: 0.7068 - loss: 0.6274 - val_accuracy: 0.8116 - val_loss: 0.5378\n",
            "Epoch 5/10\n",
            "\u001b[1m37/37\u001b[0m \u001b[32m━━━━━━━━━━━━━━━━━━━━\u001b[0m\u001b[37m\u001b[0m \u001b[1m6s\u001b[0m 152ms/step - accuracy: 0.7682 - loss: 0.5293 - val_accuracy: 0.7774 - val_loss: 0.5236\n",
            "Epoch 6/10\n",
            "\u001b[1m37/37\u001b[0m \u001b[32m━━━━━━━━━━━━━━━━━━━━\u001b[0m\u001b[37m\u001b[0m \u001b[1m9s\u001b[0m 132ms/step - accuracy: 0.8013 - loss: 0.5069 - val_accuracy: 0.6507 - val_loss: 0.7016\n",
            "Epoch 7/10\n",
            "\u001b[1m37/37\u001b[0m \u001b[32m━━━━━━━━━━━━━━━━━━━━\u001b[0m\u001b[37m\u001b[0m \u001b[1m5s\u001b[0m 129ms/step - accuracy: 0.7769 - loss: 0.5286 - val_accuracy: 0.8151 - val_loss: 0.5310\n",
            "Epoch 8/10\n",
            "\u001b[1m37/37\u001b[0m \u001b[32m━━━━━━━━━━━━━━━━━━━━\u001b[0m\u001b[37m\u001b[0m \u001b[1m5s\u001b[0m 131ms/step - accuracy: 0.8186 - loss: 0.4235 - val_accuracy: 0.8151 - val_loss: 0.6408\n",
            "Epoch 9/10\n",
            "\u001b[1m37/37\u001b[0m \u001b[32m━━━━━━━━━━━━━━━━━━━━\u001b[0m\u001b[37m\u001b[0m \u001b[1m8s\u001b[0m 205ms/step - accuracy: 0.7348 - loss: 0.6256 - val_accuracy: 0.7740 - val_loss: 0.5030\n",
            "Epoch 10/10\n",
            "\u001b[1m37/37\u001b[0m \u001b[32m━━━━━━━━━━━━━━━━━━━━\u001b[0m\u001b[37m\u001b[0m \u001b[1m9s\u001b[0m 162ms/step - accuracy: 0.8671 - loss: 0.3624 - val_accuracy: 0.8836 - val_loss: 0.3498\n"
          ]
        },
        {
          "output_type": "stream",
          "name": "stderr",
          "text": [
            "<ipython-input-15-c1f9d6ca5cf4>:15: FutureWarning: The behavior of DataFrame concatenation with empty or all-NA entries is deprecated. In a future version, this will no longer exclude empty or all-NA columns when determining the result dtypes. To retain the old behavior, exclude the relevant entries before the concat operation.\n",
            "  time_metrics = pd.concat([time_metrics, pd.DataFrame({\n"
          ]
        },
        {
          "output_type": "stream",
          "name": "stdout",
          "text": [
            "\u001b[1m12/12\u001b[0m \u001b[32m━━━━━━━━━━━━━━━━━━━━\u001b[0m\u001b[37m\u001b[0m \u001b[1m10s\u001b[0m 540ms/step\n"
          ]
        },
        {
          "output_type": "stream",
          "name": "stderr",
          "text": [
            "<ipython-input-16-423dfbc9b156>:7: FutureWarning: The behavior of DataFrame concatenation with empty or all-NA entries is deprecated. In a future version, this will no longer exclude empty or all-NA columns when determining the result dtypes. To retain the old behavior, exclude the relevant entries before the concat operation.\n",
            "  test_metrics = pd.concat([test_metrics, pd.DataFrame({\n"
          ]
        },
        {
          "output_type": "stream",
          "name": "stdout",
          "text": [
            "Model DenseNet201Model:\n",
            "Epoch 1/10\n",
            "\u001b[1m37/37\u001b[0m \u001b[32m━━━━━━━━━━━━━━━━━━━━\u001b[0m\u001b[37m\u001b[0m \u001b[1m129s\u001b[0m 2s/step - accuracy: 0.6232 - loss: 12.2931 - val_accuracy: 0.9349 - val_loss: 0.4711\n",
            "Epoch 2/10\n",
            "\u001b[1m37/37\u001b[0m \u001b[32m━━━━━━━━━━━━━━━━━━━━\u001b[0m\u001b[37m\u001b[0m \u001b[1m48s\u001b[0m 257ms/step - accuracy: 0.9394 - loss: 0.3944 - val_accuracy: 0.9281 - val_loss: 0.4585\n",
            "Epoch 3/10\n",
            "\u001b[1m37/37\u001b[0m \u001b[32m━━━━━━━━━━━━━━━━━━━━\u001b[0m\u001b[37m\u001b[0m \u001b[1m7s\u001b[0m 168ms/step - accuracy: 0.9570 - loss: 0.2349 - val_accuracy: 0.9452 - val_loss: 0.4601\n",
            "Epoch 4/10\n",
            "\u001b[1m37/37\u001b[0m \u001b[32m━━━━━━━━━━━━━━━━━━━━\u001b[0m\u001b[37m\u001b[0m \u001b[1m8s\u001b[0m 221ms/step - accuracy: 0.9816 - loss: 0.0770 - val_accuracy: 0.9521 - val_loss: 0.3180\n",
            "Epoch 5/10\n",
            "\u001b[1m37/37\u001b[0m \u001b[32m━━━━━━━━━━━━━━━━━━━━\u001b[0m\u001b[37m\u001b[0m \u001b[1m6s\u001b[0m 167ms/step - accuracy: 0.9856 - loss: 0.0530 - val_accuracy: 0.9452 - val_loss: 0.3937\n",
            "Epoch 6/10\n",
            "\u001b[1m37/37\u001b[0m \u001b[32m━━━━━━━━━━━━━━━━━━━━\u001b[0m\u001b[37m\u001b[0m \u001b[1m14s\u001b[0m 262ms/step - accuracy: 0.9926 - loss: 0.0239 - val_accuracy: 0.9486 - val_loss: 0.2919\n",
            "Epoch 7/10\n",
            "\u001b[1m37/37\u001b[0m \u001b[32m━━━━━━━━━━━━━━━━━━━━\u001b[0m\u001b[37m\u001b[0m \u001b[1m7s\u001b[0m 170ms/step - accuracy: 0.9980 - loss: 0.0030 - val_accuracy: 0.9589 - val_loss: 0.2926\n",
            "Epoch 8/10\n",
            "\u001b[1m37/37\u001b[0m \u001b[32m━━━━━━━━━━━━━━━━━━━━\u001b[0m\u001b[37m\u001b[0m \u001b[1m10s\u001b[0m 168ms/step - accuracy: 1.0000 - loss: 1.8207e-04 - val_accuracy: 0.9486 - val_loss: 0.2860\n",
            "Epoch 9/10\n",
            "\u001b[1m37/37\u001b[0m \u001b[32m━━━━━━━━━━━━━━━━━━━━\u001b[0m\u001b[37m\u001b[0m \u001b[1m10s\u001b[0m 169ms/step - accuracy: 1.0000 - loss: 1.1710e-04 - val_accuracy: 0.9486 - val_loss: 0.2865\n",
            "Epoch 10/10\n",
            "\u001b[1m37/37\u001b[0m \u001b[32m━━━━━━━━━━━━━━━━━━━━\u001b[0m\u001b[37m\u001b[0m \u001b[1m6s\u001b[0m 165ms/step - accuracy: 1.0000 - loss: 3.6504e-05 - val_accuracy: 0.9486 - val_loss: 0.2867\n",
            "\u001b[1m12/12\u001b[0m \u001b[32m━━━━━━━━━━━━━━━━━━━━\u001b[0m\u001b[37m\u001b[0m \u001b[1m48s\u001b[0m 2s/step\n",
            "Model InceptionResNetV2Model:\n",
            "Downloading data from https://storage.googleapis.com/tensorflow/keras-applications/inception_resnet_v2/inception_resnet_v2_weights_tf_dim_ordering_tf_kernels_notop.h5\n",
            "\u001b[1m219055592/219055592\u001b[0m \u001b[32m━━━━━━━━━━━━━━━━━━━━\u001b[0m\u001b[37m\u001b[0m \u001b[1m10s\u001b[0m 0us/step\n"
          ]
        }
      ]
    },
    {
      "cell_type": "markdown",
      "source": [
        "**Show metrics**"
      ],
      "metadata": {
        "id": "cIEn1jmYA21Z"
      }
    },
    {
      "cell_type": "code",
      "source": [
        "train_metrics"
      ],
      "metadata": {
        "id": "g1-fEd3cA4wE"
      },
      "execution_count": null,
      "outputs": []
    },
    {
      "cell_type": "code",
      "source": [
        "time_metrics"
      ],
      "metadata": {
        "id": "JKyV7kgBA7Fo"
      },
      "execution_count": null,
      "outputs": []
    },
    {
      "cell_type": "code",
      "source": [
        "test_metrics"
      ],
      "metadata": {
        "id": "Zo2gZvf0A9P1"
      },
      "execution_count": null,
      "outputs": []
    },
    {
      "cell_type": "code",
      "source": [
        "avg_train_metrics"
      ],
      "metadata": {
        "id": "pxRD8rU5A-Ue"
      },
      "execution_count": null,
      "outputs": []
    },
    {
      "cell_type": "code",
      "source": [
        "avg_time_metrics"
      ],
      "metadata": {
        "id": "L-8dHgKdBAWy"
      },
      "execution_count": null,
      "outputs": []
    },
    {
      "cell_type": "code",
      "source": [
        "avg_test_metrics"
      ],
      "metadata": {
        "id": "P6H3YaBOBBss"
      },
      "execution_count": null,
      "outputs": []
    }
  ],
  "metadata": {
    "accelerator": "GPU",
    "colab": {
      "gpuType": "T4",
      "provenance": []
    },
    "kernelspec": {
      "display_name": "Python 3",
      "name": "python3"
    },
    "language_info": {
      "name": "python"
    }
  },
  "nbformat": 4,
  "nbformat_minor": 0
}